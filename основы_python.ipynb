{
  "cells": [
    {
      "cell_type": "code",
      "execution_count": 9,
      "metadata": {},
      "outputs": [],
      "source": [
        "import unittest"
      ]
    },
    {
      "cell_type": "markdown",
      "metadata": {
        "id": "M-DGa20PaHnu"
      },
      "source": [
        "# Задача 1\n",
        "Написать функцию на вход которой подается строка, состоящая из латинских букв.\n",
        "Функция должна вернуть количество гласных букв (a, e, i, o, u) в этой строке. Написать тесты для кода"
      ]
    },
    {
      "cell_type": "code",
      "execution_count": 11,
      "metadata": {
        "id": "XvX8X_JJ6PCb"
      },
      "outputs": [
        {
          "name": "stderr",
          "output_type": "stream",
          "text": [
            "test_all_vowels (__main__.TestGetVowelsCount.test_all_vowels) ... ok\n",
            "test_no_vowels (__main__.TestGetVowelsCount.test_no_vowels) ... ok\n",
            "test_one_vowel (__main__.TestGetVowelsCount.test_one_vowel) ... ok\n",
            "test_some_vowels (__main__.TestGetVowelsCount.test_some_vowels) ... ok\n",
            "\n",
            "----------------------------------------------------------------------\n",
            "Ran 4 tests in 0.016s\n",
            "\n",
            "OK\n"
          ]
        },
        {
          "data": {
            "text/plain": [
              "<unittest.main.TestProgram at 0x1e22d0e7dd0>"
            ]
          },
          "execution_count": 11,
          "metadata": {},
          "output_type": "execute_result"
        }
      ],
      "source": [
        "def get_vowels_count(string):\n",
        "    count = 0\n",
        "    vowels = 'aeiouAEIOU'\n",
        "    for char in string:\n",
        "        if char in vowels:\n",
        "            count += 1\n",
        "\n",
        "    return count\n",
        "\n",
        "class TestGetVowelsCount(unittest.TestCase):\n",
        "    def test_all_vowels(self):\n",
        "        self.assertEqual(get_vowels_count('AeIoU'), 5)\n",
        "    \n",
        "    def test_one_vowel(self):\n",
        "        self.assertEqual(get_vowels_count('python'), 1)\n",
        "\n",
        "    def test_some_vowels(self):\n",
        "        self.assertEqual(get_vowels_count('microsoft'), 3)\n",
        "\n",
        "    def test_no_vowels(self):\n",
        "        self.assertEqual(get_vowels_count('bcd'), 0)\n",
        "\n",
        "\n",
        "unittest.main(argv=[''], verbosity=2, exit=False)"
      ]
    },
    {
      "cell_type": "markdown",
      "metadata": {
        "id": "t2ClV_Y0bbr6"
      },
      "source": [
        "# Задача 2\n",
        "Написать функцию на вход, которой подается строка. Функция должна вернуть true, если\n",
        "каждый символ в строке встречается только 1 раз, иначе должна вернуть false. Написать тесты для кода"
      ]
    },
    {
      "cell_type": "code",
      "execution_count": 20,
      "metadata": {
        "id": "FppbECao6VIz"
      },
      "outputs": [
        {
          "name": "stderr",
          "output_type": "stream",
          "text": [
            "test_all_different (__main__.TestAreCharsDifferent.test_all_different) ... ok\n",
            "test_all_different_digits (__main__.TestAreCharsDifferent.test_all_different_digits) ... ok\n",
            "test_all_different_empty (__main__.TestAreCharsDifferent.test_all_different_empty) ... ok\n",
            "test_all_different_one_space (__main__.TestAreCharsDifferent.test_all_different_one_space) ... ok\n",
            "test_all_different_special_chars (__main__.TestAreCharsDifferent.test_all_different_special_chars) ... ok\n",
            "test_all_different_with_uppercase (__main__.TestAreCharsDifferent.test_all_different_with_uppercase) ... ok\n",
            "test_all_same (__main__.TestAreCharsDifferent.test_all_same) ... ok\n",
            "test_all_same_spaces (__main__.TestAreCharsDifferent.test_all_same_spaces) ... ok\n",
            "test_some_same (__main__.TestAreCharsDifferent.test_some_same) ... ok\n",
            "test_some_same_special_chars (__main__.TestAreCharsDifferent.test_some_same_special_chars) ... ok\n",
            "test_no_units (__main__.TestGetUnitsCount.test_no_units) ... ok\n",
            "test_one_unit (__main__.TestGetUnitsCount.test_one_unit) ... ok\n",
            "test_some_units (__main__.TestGetUnitsCount.test_some_units) ... ok\n",
            "test_all_vowels (__main__.TestGetVowelsCount.test_all_vowels) ... ok\n",
            "test_no_vowels (__main__.TestGetVowelsCount.test_no_vowels) ... ok\n",
            "test_one_vowel (__main__.TestGetVowelsCount.test_one_vowel) ... ok\n",
            "test_some_vowels (__main__.TestGetVowelsCount.test_some_vowels) ... ok\n",
            "\n",
            "----------------------------------------------------------------------\n",
            "Ran 17 tests in 0.048s\n",
            "\n",
            "OK\n"
          ]
        },
        {
          "data": {
            "text/plain": [
              "<unittest.main.TestProgram at 0x1e22d0cda10>"
            ]
          },
          "execution_count": 20,
          "metadata": {},
          "output_type": "execute_result"
        }
      ],
      "source": [
        "def are_chars_different(string):\n",
        "    return len(set(string)) == len(string)\n",
        "\n",
        "class TestAreCharsDifferent(unittest.TestCase):\n",
        "    def test_all_different(self):\n",
        "        self.assertTrue(are_chars_different('abcd'))\n",
        "\n",
        "    def test_all_different_with_uppercase(self):\n",
        "        self.assertTrue(are_chars_different('aBcD'))\n",
        "\n",
        "    def test_all_different_empty(self):\n",
        "        self.assertTrue(are_chars_different(''))\n",
        "\n",
        "    def test_all_different_one_space(self):\n",
        "        self.assertTrue(are_chars_different(' '))\n",
        "\n",
        "    def test_all_same_spaces(self):\n",
        "        self.assertFalse(are_chars_different('  '))\n",
        "    \n",
        "    def test_all_same(self):\n",
        "        self.assertFalse(are_chars_different('aaa'))\n",
        "\n",
        "    def test_some_same(self):\n",
        "        self.assertFalse(are_chars_different('abb'))\n",
        "\n",
        "    def test_all_different_digits(self):\n",
        "        self.assertTrue(are_chars_different('123'))\n",
        "\n",
        "    def test_some_same_special_chars(self):\n",
        "        self.assertFalse(are_chars_different('#$$'))\n",
        "\n",
        "    def test_all_different_special_chars(self):\n",
        "        self.assertTrue(are_chars_different('#$%'))\n",
        "\n",
        "\n",
        "unittest.main(argv=[''], verbosity=2, exit=False)"
      ]
    },
    {
      "cell_type": "markdown",
      "metadata": {
        "id": "udRiIK1cdt6E"
      },
      "source": [
        "# Задача 3\n",
        "Написать функцию, которая принимает положительное число и возвращает количество\n",
        "бит равных 1 в этом числе. Написать тесты для кода"
      ]
    },
    {
      "cell_type": "code",
      "execution_count": 10,
      "metadata": {
        "id": "6tkfDJRz6dp_"
      },
      "outputs": [
        {
          "name": "stderr",
          "output_type": "stream",
          "text": [
            "test_no_ones (__main__.TestGetonesCount.test_no_ones) ... ok\n",
            "test_one_one (__main__.TestGetonesCount.test_one_one) ... ok\n",
            "test_some_ones (__main__.TestGetonesCount.test_some_ones) ... ok\n",
            "\n",
            "----------------------------------------------------------------------\n",
            "Ran 3 tests in 0.009s\n",
            "\n",
            "OK\n"
          ]
        },
        {
          "data": {
            "text/plain": [
              "<unittest.main.TestProgram at 0x1ddf417bc10>"
            ]
          },
          "execution_count": 10,
          "metadata": {},
          "output_type": "execute_result"
        }
      ],
      "source": [
        "def get_ones_count(num):\n",
        "    return str(bin(num)).count('1')\n",
        "\n",
        "class TestGetonesCount(unittest.TestCase):\n",
        "    def test_no_ones(self):\n",
        "        self.assertEqual(get_ones_count(0), 0)\n",
        "    \n",
        "    def test_one_one(self):\n",
        "        self.assertEqual(get_ones_count(2), 1)\n",
        "\n",
        "    def test_some_ones(self):\n",
        "        self.assertEqual(get_ones_count(123), 6)\n",
        "\n",
        "\n",
        "unittest.main(argv=[''], verbosity=2, exit=False)"
      ]
    },
    {
      "cell_type": "markdown",
      "metadata": {
        "id": "26dDUz-Ae17N"
      },
      "source": [
        "# Задача 4\n",
        "Написать функцию, которая принимает положительное число. Функция должна вернуть то,\n",
        "сколько раз необходимо перемножать цифры числа или результат перемножения, чтобы\n",
        "получилось число состоящее из одной цифры.\n",
        "Например, для входного числа:\n",
        "· 39 функция должна вернуть 3, так как 3*9=27 => 2*7=14 => 1*4=4\n",
        "· 4 функция должна вернуть 0, так как число уже состоит из одной цифры\n",
        "· 999 функция должна вернуть 4, так как 9*9*9=729 => 7*2*9=126 => 1*2*6=12 =>\n",
        "1*2=2. Написать тесты для кода"
      ]
    },
    {
      "cell_type": "code",
      "execution_count": 45,
      "metadata": {
        "id": "BH1A_Mgi6i4G"
      },
      "outputs": [
        {
          "name": "stderr",
          "output_type": "stream",
          "text": [
            "test_no_ones (__main__.TestGetonesCount.test_no_ones) ... ok\n",
            "test_one_one (__main__.TestGetonesCount.test_one_one) ... ok\n",
            "test_some_ones (__main__.TestGetonesCount.test_some_ones) ... ok\n",
            "test_mse_equal_one (__main__.TestMSE.test_mse_equal_one) ... ok\n",
            "test_same_vectors (__main__.TestMSE.test_same_vectors) ... ok\n",
            "test_one_digit_is_not_zero (__main__.TestMagic.test_one_digit_is_not_zero) ... ok\n",
            "test_one_digit_numbers (__main__.TestMagic.test_one_digit_numbers) ... ok\n",
            "test_three_digits_number (__main__.TestMagic.test_three_digits_number) ... ok\n",
            "test_two_digits_number (__main__.TestMagic.test_two_digits_number) ... ok\n",
            "test_it_is_impossible (__main__.TestPyramide.test_it_is_impossible) ... ok\n",
            "test_some_number (__main__.TestPyramide.test_some_number) ... ok\n",
            "test_unit (__main__.TestPyramide.test_unit) ... ok\n",
            "\n",
            "----------------------------------------------------------------------\n",
            "Ran 12 tests in 0.037s\n",
            "\n",
            "OK\n"
          ]
        },
        {
          "data": {
            "text/plain": [
              "<unittest.main.TestProgram at 0x1ddf414ad10>"
            ]
          },
          "execution_count": 45,
          "metadata": {},
          "output_type": "execute_result"
        }
      ],
      "source": [
        "from operator import mul\n",
        "from functools import reduce\n",
        "\n",
        "def magic(n):\n",
        "    if n < 10:\n",
        "        return 0\n",
        "    \n",
        "    count = 0\n",
        "    while n >= 10:\n",
        "        digits = (int(d) for d in str(n))\n",
        "        n = reduce(mul, digits)\n",
        "        count += 1\n",
        "    \n",
        "    return count\n",
        "\n",
        "class TestMagic(unittest.TestCase):\n",
        "    def test_one_digit_numbers(self):\n",
        "        for n in range(1, 10):\n",
        "            self.assertEqual(magic(n), 0)\n",
        "\n",
        "    def test_two_digits_number(self):\n",
        "        self.assertEqual(magic(39), 3)\n",
        "\n",
        "    def test_three_digits_number(self):\n",
        "        self.assertEqual(magic(999), 4)\n",
        "\n",
        "    def test_one_digit_is_not_zero(self):\n",
        "        self.assertEqual(magic(5000), 1)\n",
        "\n",
        "unittest.main(argv=[''], verbosity=2, exit=False)"
      ]
    },
    {
      "cell_type": "markdown",
      "metadata": {
        "id": "0nS-kIa8g8vd"
      },
      "source": [
        "# Задача 5\n",
        "Написать функцию, которая принимает два целочисленных вектора одинаковой длины и\n",
        "возвращает среднеквадратическое отклонение двух векторов. Написать тесты для кода"
      ]
    },
    {
      "cell_type": "code",
      "execution_count": 16,
      "metadata": {
        "id": "8iphx4LM6xbx"
      },
      "outputs": [
        {
          "name": "stderr",
          "output_type": "stream",
          "text": [
            "test_no_ones (__main__.TestGetonesCount.test_no_ones) ... ok\n",
            "test_one_one (__main__.TestGetonesCount.test_one_one) ... ok\n",
            "test_some_ones (__main__.TestGetonesCount.test_some_ones) ... ok\n",
            "test_mse_equal_one (__main__.TestMSE.test_mse_equal_one) ... ok\n",
            "test_same_vectors (__main__.TestMSE.test_same_vectors) ... ok\n",
            "\n",
            "----------------------------------------------------------------------\n",
            "Ran 5 tests in 0.017s\n",
            "\n",
            "OK\n"
          ]
        },
        {
          "data": {
            "text/plain": [
              "<unittest.main.TestProgram at 0x1ddf41eec10>"
            ]
          },
          "execution_count": 16,
          "metadata": {},
          "output_type": "execute_result"
        }
      ],
      "source": [
        "import math\n",
        "\n",
        "def mse(pred, true):\n",
        "    sum_squares = sum((x - y) ** 2 for x, y in zip(pred, true))\n",
        "    return math.sqrt(sum_squares / len(pred))\n",
        "\n",
        "class TestMSE(unittest.TestCase):\n",
        "    def test_same_vectors(self):\n",
        "        pred = [1, 2, 3]\n",
        "        true = [1, 2, 3]\n",
        "        self.assertEqual(mse(pred, true), 0)\n",
        "\n",
        "    def test_mse_equal_one(self):\n",
        "        pred = [1, 2, 3]\n",
        "        true = [2, 3, 4]\n",
        "        self.assertEqual(mse(pred, true), 1)\n",
        "        \n",
        "unittest.main(argv=[''], verbosity=2, exit=False)"
      ]
    },
    {
      "cell_type": "markdown",
      "metadata": {
        "id": "vpIPKL439zkw"
      },
      "source": [
        "# Задача 6\n",
        "Написать функцию, принимающая целое положительное число. Функция должна вернуть\n",
        "строку вида “(n1**p1)(n2**p2)…(nk**pk)” представляющая разложение числа на простые\n",
        "множители (если pi == 1, то выводить только ni).\n",
        "Например, для числа 86240 функция должна вернуть “(2**5)(5)(7**2)(11)”. Написать тесты для кода"
      ]
    },
    {
      "cell_type": "code",
      "execution_count": 24,
      "metadata": {
        "id": "pFebmcZk94Jw"
      },
      "outputs": [
        {
          "name": "stderr",
          "output_type": "stream",
          "text": [
            "test_all_different (__main__.TestAreCharsDifferent.test_all_different) ... ok\n",
            "test_all_different_digits (__main__.TestAreCharsDifferent.test_all_different_digits) ... ok\n",
            "test_all_different_empty (__main__.TestAreCharsDifferent.test_all_different_empty) ... ok\n",
            "test_all_different_one_space (__main__.TestAreCharsDifferent.test_all_different_one_space) ... ok\n",
            "test_all_different_special_chars (__main__.TestAreCharsDifferent.test_all_different_special_chars) ... ok\n",
            "test_all_different_with_uppercase (__main__.TestAreCharsDifferent.test_all_different_with_uppercase) ... ok\n",
            "test_all_same (__main__.TestAreCharsDifferent.test_all_same) ... ok\n",
            "test_all_same_spaces (__main__.TestAreCharsDifferent.test_all_same_spaces) ... ok\n",
            "test_some_same (__main__.TestAreCharsDifferent.test_some_same) ... ok\n",
            "test_some_same_special_chars (__main__.TestAreCharsDifferent.test_some_same_special_chars) ... ok\n",
            "test_one (__main__.TestGetPrimeFactors.test_one) ... ok\n",
            "test_one_number1 (__main__.TestGetPrimeFactors.test_one_number1) ... ok\n",
            "test_prime_number (__main__.TestGetPrimeFactors.test_prime_number) ... ok\n",
            "test_some_number (__main__.TestGetPrimeFactors.test_some_number) ... ok\n",
            "test_no_units (__main__.TestGetUnitsCount.test_no_units) ... ok\n",
            "test_one_unit (__main__.TestGetUnitsCount.test_one_unit) ... ok\n",
            "test_some_units (__main__.TestGetUnitsCount.test_some_units) ... ok\n",
            "test_all_vowels (__main__.TestGetVowelsCount.test_all_vowels) ... ok\n",
            "test_no_vowels (__main__.TestGetVowelsCount.test_no_vowels) ... ok\n",
            "test_one_vowel (__main__.TestGetVowelsCount.test_one_vowel) ... ok\n",
            "test_some_vowels (__main__.TestGetVowelsCount.test_some_vowels) ... ok\n",
            "\n",
            "----------------------------------------------------------------------\n",
            "Ran 21 tests in 0.054s\n",
            "\n",
            "OK\n"
          ]
        },
        {
          "data": {
            "text/plain": [
              "<unittest.main.TestProgram at 0x1e22d15ff90>"
            ]
          },
          "execution_count": 24,
          "metadata": {},
          "output_type": "execute_result"
        }
      ],
      "source": [
        "def get_prime_factors(num):\n",
        "    if num == 1:\n",
        "        return '(1)'\n",
        "\n",
        "    prime_factors = []\n",
        "    factor = 2\n",
        "    while factor ** 2 <= num:\n",
        "        if num % factor == 0:          \n",
        "            prime_factors.append(factor)\n",
        "            num /= factor\n",
        "        else:\n",
        "            factor += 1\n",
        "\n",
        "    if num > 1:\n",
        "        prime_factors.append(int(num))\n",
        "    \n",
        "    frequency_dict = {x: prime_factors.count(x) for x in prime_factors}\n",
        "    parts = [f'({x}{\"**\" + str(frequency_dict[x]) if frequency_dict[x] > 1 else \"\"})' for x in frequency_dict]\n",
        "\n",
        "    return ''.join(parts)\n",
        "\n",
        "class TestGetPrimeFactors(unittest.TestCase):\n",
        "    def test_one(self):\n",
        "        self.assertEqual(get_prime_factors(1), '(1)')\n",
        "\n",
        "    def test_prime_number(self):\n",
        "        for number in [2, 3, 5, 7, 11, 13, 17, 751]:\n",
        "            self.assertEqual(get_prime_factors(number), f'({number})')\n",
        "\n",
        "    def test_some_number(self):\n",
        "        self.assertEqual(get_prime_factors(86240), '(2**5)(5)(7**2)(11)')\n",
        "    \n",
        "    def test_one_number1(self):\n",
        "        self.assertEqual(get_prime_factors(984561), '(3)(19)(23)(751)')\n",
        "\n",
        "\n",
        "unittest.main(argv=[''], verbosity=2, exit=False)"
      ]
    },
    {
      "cell_type": "markdown",
      "metadata": {
        "id": "ps2s0BudX7A2"
      },
      "source": [
        "# Задача 7\n",
        "Написать функцию, принимающая целое число n, задающее количество кубиков. Функция\n",
        "должна определить, можно ли из данного кол-ва кубиков построить пирамиду, то есть\n",
        "можно ли представить число n как 1^2+2^2+3^2+…+k^2. Если можно, то функция должна\n",
        "вернуть k, иначе строку “It is impossible”. Написать тесты для кода"
      ]
    },
    {
      "cell_type": "code",
      "execution_count": 28,
      "metadata": {
        "id": "3YPjEXxhX_YT"
      },
      "outputs": [
        {
          "name": "stderr",
          "output_type": "stream",
          "text": [
            "test_no_ones (__main__.TestGetonesCount.test_no_ones) ... ok\n",
            "test_one_one (__main__.TestGetonesCount.test_one_one) ... ok\n",
            "test_some_ones (__main__.TestGetonesCount.test_some_ones) ... ok\n",
            "test_mse_equal_one (__main__.TestMSE.test_mse_equal_one) ... ok\n",
            "test_same_vectors (__main__.TestMSE.test_same_vectors) ... ok\n",
            "test_it_is_impossible (__main__.TestPyramide.test_it_is_impossible) ... ok\n",
            "test_some_number (__main__.TestPyramide.test_some_number) ... ok\n",
            "test_unit (__main__.TestPyramide.test_unit) ... ok\n",
            "\n",
            "----------------------------------------------------------------------\n",
            "Ran 8 tests in 0.028s\n",
            "\n",
            "OK\n"
          ]
        },
        {
          "data": {
            "text/plain": [
              "<unittest.main.TestProgram at 0x1ddf421fc90>"
            ]
          },
          "execution_count": 28,
          "metadata": {},
          "output_type": "execute_result"
        }
      ],
      "source": [
        "def pyramid(number):\n",
        "    summ = 0\n",
        "    k = 1\n",
        "\n",
        "    while summ < number:\n",
        "        summ += k**2\n",
        "        if summ == number:\n",
        "            return k\n",
        "        k += 1\n",
        "\n",
        "    return 'It is impossible'\n",
        "\n",
        "class TestPyramide(unittest.TestCase):\n",
        "    def test_unit(self):\n",
        "        self.assertEqual(pyramid(1), 1)\n",
        "\n",
        "    def test_some_number(self):\n",
        "        self.assertEqual(pyramid(14), 3)\n",
        "        \n",
        "    def test_it_is_impossible(self):\n",
        "        self.assertEqual(pyramid(2), 'It is impossible')\n",
        "\n",
        "unittest.main(argv=[''], verbosity=2, exit=False)"
      ]
    },
    {
      "cell_type": "markdown",
      "metadata": {
        "id": "KeKgmIdAQMEJ"
      },
      "source": [
        "# Задача 8\n",
        "Функция принимает на вход положительное число и определяет является ли оно сбалансированным, т.е. сумма цифр до средних равна сумме цифр после. Средними в случае нечетного числа цифр считать одну цифру, в случае четного - две средних. Написать тесты для кода"
      ]
    },
    {
      "cell_type": "code",
      "execution_count": 32,
      "metadata": {
        "id": "gMAAqtqlQrZt"
      },
      "outputs": [
        {
          "name": "stderr",
          "output_type": "stream",
          "text": [
            "test_all_different (__main__.TestAreCharsDifferent.test_all_different) ... ok\n",
            "test_all_different_digits (__main__.TestAreCharsDifferent.test_all_different_digits) ... ok\n",
            "test_all_different_empty (__main__.TestAreCharsDifferent.test_all_different_empty) ... ok\n",
            "test_all_different_one_space (__main__.TestAreCharsDifferent.test_all_different_one_space) ... ok\n",
            "test_all_different_special_chars (__main__.TestAreCharsDifferent.test_all_different_special_chars) ... ok\n",
            "test_all_different_with_uppercase (__main__.TestAreCharsDifferent.test_all_different_with_uppercase) ... ok\n",
            "test_all_same (__main__.TestAreCharsDifferent.test_all_same) ... ok\n",
            "test_all_same_spaces (__main__.TestAreCharsDifferent.test_all_same_spaces) ... ok\n",
            "test_some_same (__main__.TestAreCharsDifferent.test_some_same) ... ok\n",
            "test_some_same_special_chars (__main__.TestAreCharsDifferent.test_some_same_special_chars) ... ok\n",
            "test_one (__main__.TestGetPrimeFactors.test_one) ... ok\n",
            "test_one_number1 (__main__.TestGetPrimeFactors.test_one_number1) ... ok\n",
            "test_prime_number (__main__.TestGetPrimeFactors.test_prime_number) ... ok\n",
            "test_some_number (__main__.TestGetPrimeFactors.test_some_number) ... ok\n",
            "test_no_units (__main__.TestGetUnitsCount.test_no_units) ... ok\n",
            "test_one_unit (__main__.TestGetUnitsCount.test_one_unit) ... ok\n",
            "test_some_units (__main__.TestGetUnitsCount.test_some_units) ... ok\n",
            "test_all_vowels (__main__.TestGetVowelsCount.test_all_vowels) ... ok\n",
            "test_no_vowels (__main__.TestGetVowelsCount.test_no_vowels) ... ok\n",
            "test_one_vowel (__main__.TestGetVowelsCount.test_one_vowel) ... ok\n",
            "test_some_vowels (__main__.TestGetVowelsCount.test_some_vowels) ... ok\n",
            "test_even_length_false (__main__.TestIsBalanced.test_even_length_false) ... ok\n",
            "test_odd_length_all_same_digits_true (__main__.TestIsBalanced.test_odd_length_all_same_digits_true) ... ok\n",
            "test_odd_length_false (__main__.TestIsBalanced.test_odd_length_false) ... ok\n",
            "test_odd_length_true (__main__.TestIsBalanced.test_odd_length_true) ... ok\n",
            "test_one_digit_true (__main__.TestIsBalanced.test_one_digit_true) ... ok\n",
            "test_two_digits_true (__main__.TestIsBalanced.test_two_digits_true) ... ok\n",
            "\n",
            "----------------------------------------------------------------------\n",
            "Ran 27 tests in 0.078s\n",
            "\n",
            "OK\n"
          ]
        },
        {
          "data": {
            "text/plain": [
              "<unittest.main.TestProgram at 0x1e22d228890>"
            ]
          },
          "execution_count": 32,
          "metadata": {},
          "output_type": "execute_result"
        }
      ],
      "source": [
        "def get_digits_sum(s):\n",
        "    return sum(int(d) for d in s)\n",
        "\n",
        "def is_balanced(num):\n",
        "    s = str(num)\n",
        "    length = len(str(s))\n",
        "    middle = length // 2\n",
        "\n",
        "    if length % 2 == 0:\n",
        "        return get_digits_sum(s[:middle - 1]) == get_digits_sum(s[middle + 1:])\n",
        "    \n",
        "    return get_digits_sum(s[:middle]) == get_digits_sum(s[middle + 1:])\n",
        "    \n",
        "class TestIsBalanced(unittest.TestCase):\n",
        "    def test_even_length_false(self):\n",
        "        self.assertFalse(is_balanced(1234))\n",
        "\n",
        "    def test_odd_length_false(self):\n",
        "        self.assertFalse(is_balanced(123))\n",
        "\n",
        "    def test_odd_length_true(self):\n",
        "        self.assertTrue(is_balanced(12321))\n",
        "\n",
        "    def test_odd_length_all_same_digits_true(self):\n",
        "        self.assertTrue(is_balanced(555))\n",
        "    \n",
        "    def test_one_digit_true(self):\n",
        "        self.assertTrue(is_balanced(1))\n",
        "\n",
        "    def test_two_digits_true(self):\n",
        "        self.assertTrue(is_balanced(12))\n",
        "\n",
        "\n",
        "unittest.main(argv=[''], verbosity=2, exit=False)\n"
      ]
    }
  ],
  "metadata": {
    "colab": {
      "provenance": []
    },
    "kernelspec": {
      "display_name": "Python 3",
      "name": "python3"
    },
    "language_info": {
      "codemirror_mode": {
        "name": "ipython",
        "version": 3
      },
      "file_extension": ".py",
      "mimetype": "text/x-python",
      "name": "python",
      "nbconvert_exporter": "python",
      "pygments_lexer": "ipython3",
      "version": "3.11.5"
    }
  },
  "nbformat": 4,
  "nbformat_minor": 0
}
